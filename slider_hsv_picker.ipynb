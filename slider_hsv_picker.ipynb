{
 "metadata": {
  "language_info": {
   "codemirror_mode": {
    "name": "ipython",
    "version": 3
   },
   "file_extension": ".py",
   "mimetype": "text/x-python",
   "name": "python",
   "nbconvert_exporter": "python",
   "pygments_lexer": "ipython3",
   "version": "3.8.9"
  },
  "orig_nbformat": 4,
  "kernelspec": {
   "name": "python3",
   "display_name": "Python 3.8.9 64-bit ('3.8.9': pyenv)"
  },
  "interpreter": {
   "hash": "a0c01c70a9b66ba5dcc53b860ca2e48372222cf0515525978358ce2abd51f8ee"
  }
 },
 "nbformat": 4,
 "nbformat_minor": 2,
 "cells": [
  {
   "cell_type": "code",
   "execution_count": 1,
   "metadata": {},
   "outputs": [],
   "source": [
    "import cv2\n",
    "import numpy as np\n",
    "from IPython import display\n",
    "\n",
    "from ipywidgets import fixed, widgets\n",
    "\n"
   ]
  },
  {
   "cell_type": "code",
   "execution_count": 2,
   "metadata": {},
   "outputs": [],
   "source": [
    "def inRange(img, c1, c2, c3):\n",
    "    \"\"\"2値化処理を行い、結果を表示する。\n",
    "    \"\"\"\n",
    "    lower = np.array([c1[0], c2[0], c3[0]])\n",
    "    upper = np.array([c1[1], c2[1], c3[1]])\n",
    "\n",
    "    bin_img = cv2.inRange(img, lower, upper)\n",
    "    img_ = img.copy()\n",
    "    img_[bin_img == 0] = (255, 255, 255,)\n",
    "    imshow(img_)\n",
    "\n",
    "def imshow(img, format=\".jpg\", **kwargs):\n",
    "    \"\"\"ndarray 配列をインラインで Notebook 上に表示する。\n",
    "    \"\"\"\n",
    "    img = cv2.imencode(format, img)[1]\n",
    "    img = display.Image(img, **kwargs)\n",
    "    display.display(img)"
   ]
  },
  {
   "cell_type": "code",
   "execution_count": 3,
   "metadata": {},
   "outputs": [],
   "source": [
    "names = [\"H\", \"S\", \"V\"]\n",
    "parts = {}\n",
    "for i, name in enumerate(names, 1):\n",
    "    slider = widgets.SelectionRangeSlider(\n",
    "        options=np.arange(256), index=(0, 255), description=name\n",
    "    )\n",
    "    slider.layout.width = \"400px\"\n",
    "    parts[f\"c{i}\"] = slider\n",
    "\n"
   ]
  },
  {
   "cell_type": "code",
   "execution_count": 4,
   "metadata": {},
   "outputs": [
    {
     "output_type": "display_data",
     "data": {
      "text/plain": "interactive(children=(SelectionRangeSlider(description='H', index=(0, 255), layout=Layout(width='400px'), opti…",
      "application/vnd.jupyter.widget-view+json": {
       "version_major": 2,
       "version_minor": 0,
       "model_id": "aedf58bb67e44c0193b6dfb2deb63578"
      }
     },
     "metadata": {}
    }
   ],
   "source": [
    "img = cv2.imread(\"data/green.png\")\n",
    "widgets.interactive(inRange, **parts, img=fixed(img))"
   ]
  },
  {
   "cell_type": "code",
   "execution_count": 5,
   "metadata": {},
   "outputs": [
    {
     "output_type": "display_data",
     "data": {
      "text/plain": "interactive(children=(SelectionRangeSlider(description='H', index=(0, 71), layout=Layout(width='400px'), optio…",
      "application/vnd.jupyter.widget-view+json": {
       "version_major": 2,
       "version_minor": 0,
       "model_id": "ea95c947df8944f2b1421b0a11c2bdfa"
      }
     },
     "metadata": {}
    }
   ],
   "source": [
    "img = cv2.imread(\"data/split_body_with_cable.png\")\n",
    "widgets.interactive(inRange, **parts, img=fixed(img))"
   ]
  },
  {
   "cell_type": "code",
   "execution_count": 6,
   "metadata": {},
   "outputs": [
    {
     "output_type": "display_data",
     "data": {
      "text/plain": "interactive(children=(SelectionRangeSlider(description='H', index=(0, 25), layout=Layout(width='400px'), optio…",
      "application/vnd.jupyter.widget-view+json": {
       "version_major": 2,
       "version_minor": 0,
       "model_id": "489d41ad2fd142cb8c709d09759314b9"
      }
     },
     "metadata": {}
    }
   ],
   "source": [
    "img = cv2.imread(\"data/general.png\")\n",
    "widgets.interactive(inRange, **parts, img=fixed(img))"
   ]
  }
 ]
}